{
  "nbformat": 4,
  "nbformat_minor": 0,
  "metadata": {
    "colab": {
      "name": "Code_randerson",
      "provenance": [],
      "authorship_tag": "ABX9TyOwUJU7hU3qq9K8mygLOv+p",
      "include_colab_link": true
    },
    "kernelspec": {
      "name": "python3",
      "display_name": "Python 3"
    },
    "language_info": {
      "name": "python"
    }
  },
  "cells": [
    {
      "cell_type": "markdown",
      "metadata": {
        "id": "view-in-github",
        "colab_type": "text"
      },
      "source": [
        "<a href=\"https://colab.research.google.com/github/MiguelRFerreiraF/Bitmap_drawing/blob/main/Code_randerson.ipynb\" target=\"_parent\"><img src=\"https://colab.research.google.com/assets/colab-badge.svg\" alt=\"Open In Colab\"/></a>"
      ]
    },
    {
      "cell_type": "code",
      "execution_count": null,
      "metadata": {
        "colab": {
          "base_uri": "https://localhost:8080/"
        },
        "id": "a7CB9UnjohQ0",
        "outputId": "8522b437-e18c-41ba-bca5-f08f93d259b9"
      },
      "outputs": [
        {
          "output_type": "stream",
          "name": "stdout",
          "text": [
            "Looking in indexes: https://pypi.org/simple, https://us-python.pkg.dev/colab-wheels/public/simple/\n",
            "Collecting quandl\n",
            "  Downloading Quandl-3.7.0-py2.py3-none-any.whl (26 kB)\n",
            "Requirement already satisfied: pandas>=0.14 in /usr/local/lib/python3.7/dist-packages (from quandl) (1.3.5)\n",
            "Requirement already satisfied: more-itertools in /usr/local/lib/python3.7/dist-packages (from quandl) (8.13.0)\n",
            "Requirement already satisfied: requests>=2.7.0 in /usr/local/lib/python3.7/dist-packages (from quandl) (2.23.0)\n",
            "Requirement already satisfied: python-dateutil in /usr/local/lib/python3.7/dist-packages (from quandl) (2.8.2)\n",
            "Requirement already satisfied: six in /usr/local/lib/python3.7/dist-packages (from quandl) (1.15.0)\n",
            "Collecting inflection>=0.3.1\n",
            "  Downloading inflection-0.5.1-py2.py3-none-any.whl (9.5 kB)\n",
            "Requirement already satisfied: numpy>=1.8 in /usr/local/lib/python3.7/dist-packages (from quandl) (1.21.6)\n",
            "Requirement already satisfied: pytz>=2017.3 in /usr/local/lib/python3.7/dist-packages (from pandas>=0.14->quandl) (2022.1)\n",
            "Requirement already satisfied: chardet<4,>=3.0.2 in /usr/local/lib/python3.7/dist-packages (from requests>=2.7.0->quandl) (3.0.4)\n",
            "Requirement already satisfied: certifi>=2017.4.17 in /usr/local/lib/python3.7/dist-packages (from requests>=2.7.0->quandl) (2022.5.18.1)\n",
            "Requirement already satisfied: urllib3!=1.25.0,!=1.25.1,<1.26,>=1.21.1 in /usr/local/lib/python3.7/dist-packages (from requests>=2.7.0->quandl) (1.24.3)\n",
            "Requirement already satisfied: idna<3,>=2.5 in /usr/local/lib/python3.7/dist-packages (from requests>=2.7.0->quandl) (2.10)\n",
            "Installing collected packages: inflection, quandl\n",
            "Successfully installed inflection-0.5.1 quandl-3.7.0\n"
          ]
        }
      ],
      "source": [
        "!pip install quandl\n",
        "\n",
        "import quandl\n",
        "import numpy as np \n",
        "from sklearn.linear_model import LinearRegression\n",
        "from sklearn.svm import SVR\n",
        "from sklearn.model_selection import train_test_split"
      ]
    },
    {
      "cell_type": "code",
      "source": [
        "# Get the stock data\n",
        "\n",
        "'''Here is used a library called Quandl for finacial data obtaining'''\n",
        "\n",
        "df = quandl.get(\"WIKI/GOOGL\")\n",
        "\n",
        "# Take a look at the data\n",
        "\n",
        "print(df.head())"
      ],
      "metadata": {
        "colab": {
          "base_uri": "https://localhost:8080/"
        },
        "id": "Dj6M5x2xqboH",
        "outputId": "4ca7eb34-28a6-4b63-c632-e6434a62ee16"
      },
      "execution_count": null,
      "outputs": [
        {
          "output_type": "stream",
          "name": "stdout",
          "text": [
            "              Open    High     Low    Close      Volume  Ex-Dividend  \\\n",
            "Date                                                                   \n",
            "2004-08-19  100.01  104.06   95.96  100.335  44659000.0          0.0   \n",
            "2004-08-20  101.01  109.08  100.50  108.310  22834300.0          0.0   \n",
            "2004-08-23  110.76  113.48  109.05  109.400  18256100.0          0.0   \n",
            "2004-08-24  111.24  111.60  103.57  104.870  15247300.0          0.0   \n",
            "2004-08-25  104.76  108.00  103.88  106.000   9188600.0          0.0   \n",
            "\n",
            "            Split Ratio  Adj. Open  Adj. High   Adj. Low  Adj. Close  \\\n",
            "Date                                                                   \n",
            "2004-08-19          1.0  50.159839  52.191109  48.128568   50.322842   \n",
            "2004-08-20          1.0  50.661387  54.708881  50.405597   54.322689   \n",
            "2004-08-23          1.0  55.551482  56.915693  54.693835   54.869377   \n",
            "2004-08-24          1.0  55.792225  55.972783  51.945350   52.597363   \n",
            "2004-08-25          1.0  52.542193  54.167209  52.100830   53.164113   \n",
            "\n",
            "            Adj. Volume  \n",
            "Date                     \n",
            "2004-08-19   44659000.0  \n",
            "2004-08-20   22834300.0  \n",
            "2004-08-23   18256100.0  \n",
            "2004-08-24   15247300.0  \n",
            "2004-08-25    9188600.0  \n"
          ]
        }
      ]
    },
    {
      "cell_type": "code",
      "source": [
        "print(df.tail())"
      ],
      "metadata": {
        "colab": {
          "base_uri": "https://localhost:8080/"
        },
        "id": "PTFtdwN7qjvx",
        "outputId": "13eae299-372c-44a1-eaaf-77f326f1b8f3"
      },
      "execution_count": null,
      "outputs": [
        {
          "output_type": "stream",
          "name": "stdout",
          "text": [
            "               Open     High      Low    Close     Volume  Ex-Dividend  \\\n",
            "Date                                                                     \n",
            "2018-03-21  1092.57  1108.70  1087.21  1094.00  1990515.0          0.0   \n",
            "2018-03-22  1080.01  1083.92  1049.64  1053.15  3418154.0          0.0   \n",
            "2018-03-23  1051.37  1066.78  1024.87  1026.55  2413517.0          0.0   \n",
            "2018-03-26  1050.60  1059.27  1010.58  1054.09  3272409.0          0.0   \n",
            "2018-03-27  1063.90  1064.54   997.62  1006.94  2940957.0          0.0   \n",
            "\n",
            "            Split Ratio  Adj. Open  Adj. High  Adj. Low  Adj. Close  \\\n",
            "Date                                                                  \n",
            "2018-03-21          1.0    1092.57    1108.70   1087.21     1094.00   \n",
            "2018-03-22          1.0    1080.01    1083.92   1049.64     1053.15   \n",
            "2018-03-23          1.0    1051.37    1066.78   1024.87     1026.55   \n",
            "2018-03-26          1.0    1050.60    1059.27   1010.58     1054.09   \n",
            "2018-03-27          1.0    1063.90    1064.54    997.62     1006.94   \n",
            "\n",
            "            Adj. Volume  \n",
            "Date                     \n",
            "2018-03-21    1990515.0  \n",
            "2018-03-22    3418154.0  \n",
            "2018-03-23    2413517.0  \n",
            "2018-03-26    3272409.0  \n",
            "2018-03-27    2940957.0  \n"
          ]
        }
      ]
    },
    {
      "cell_type": "code",
      "source": [
        "# Get the Adjusted Close Price \n",
        "\n",
        "'''Here we produce a separation of the important features, since we're want\n",
        "to predict only a specifical financial data (price)'''\n",
        "\n",
        "df = df[['Adj. Close']] \n",
        "\n",
        "# Take a look at the new data \n",
        "print(df.head())"
      ],
      "metadata": {
        "colab": {
          "base_uri": "https://localhost:8080/",
          "height": 246
        },
        "id": "lX4PXTn_qvtL",
        "outputId": "9eb13460-4f91-4d92-aba1-6b0b301e718e"
      },
      "execution_count": 1,
      "outputs": [
        {
          "output_type": "error",
          "ename": "NameError",
          "evalue": "ignored",
          "traceback": [
            "\u001b[0;31m---------------------------------------------------------------------------\u001b[0m",
            "\u001b[0;31mNameError\u001b[0m                                 Traceback (most recent call last)",
            "\u001b[0;32m<ipython-input-1-fae9b0a84cca>\u001b[0m in \u001b[0;36m<module>\u001b[0;34m()\u001b[0m\n\u001b[1;32m      3\u001b[0m '''Here we produce a separation of the important features, since we're want\n\u001b[1;32m      4\u001b[0m to predict only a specifical financial data  '''\n\u001b[0;32m----> 5\u001b[0;31m \u001b[0mdf\u001b[0m \u001b[0;34m=\u001b[0m \u001b[0mdf\u001b[0m\u001b[0;34m[\u001b[0m\u001b[0;34m[\u001b[0m\u001b[0;34m'Adj. Close'\u001b[0m\u001b[0;34m]\u001b[0m\u001b[0;34m]\u001b[0m\u001b[0;34m\u001b[0m\u001b[0;34m\u001b[0m\u001b[0m\n\u001b[0m\u001b[1;32m      6\u001b[0m \u001b[0;31m# Take a look at the new data\u001b[0m\u001b[0;34m\u001b[0m\u001b[0;34m\u001b[0m\u001b[0;34m\u001b[0m\u001b[0m\n\u001b[1;32m      7\u001b[0m \u001b[0mprint\u001b[0m\u001b[0;34m(\u001b[0m\u001b[0mdf\u001b[0m\u001b[0;34m.\u001b[0m\u001b[0mhead\u001b[0m\u001b[0;34m(\u001b[0m\u001b[0;34m)\u001b[0m\u001b[0;34m)\u001b[0m\u001b[0;34m\u001b[0m\u001b[0;34m\u001b[0m\u001b[0m\n",
            "\u001b[0;31mNameError\u001b[0m: name 'df' is not defined"
          ]
        }
      ]
    },
    {
      "cell_type": "code",
      "source": [
        "# A variable for predicting 'n' days out into the future\n",
        "\n",
        "forecast_out = 30 #'n=30' days\n",
        "\n",
        "#Create another column (the target ) shifted 'n' units up\n",
        "\n",
        "df['Prediction'] = df[['Adj. Close']].shift(-forecast_out)\n",
        "\n",
        "#print the new data set\n",
        "\n",
        "print(df.tail())"
      ],
      "metadata": {
        "colab": {
          "base_uri": "https://localhost:8080/"
        },
        "id": "_1Zgvmcmq1ws",
        "outputId": "596df094-9fb5-4473-e424-87700e451ed8"
      },
      "execution_count": null,
      "outputs": [
        {
          "output_type": "stream",
          "name": "stdout",
          "text": [
            "            Adj. Close  Prediction\n",
            "Date                              \n",
            "2018-03-21     1094.00         NaN\n",
            "2018-03-22     1053.15         NaN\n",
            "2018-03-23     1026.55         NaN\n",
            "2018-03-26     1054.09         NaN\n",
            "2018-03-27     1006.94         NaN\n"
          ]
        }
      ]
    },
    {
      "cell_type": "code",
      "source": [
        "### Create the independent data set (X)  #######\n",
        "# Convert the dataframe to a numpy array\n",
        "X = np.array(df.drop(['Prediction'],1))\n",
        "\n",
        "#Remove the last '30' rows\n",
        "X = X[:-forecast_out]\n",
        "print(X)"
      ],
      "metadata": {
        "id": "C-PqLbR7ryZm",
        "colab": {
          "base_uri": "https://localhost:8080/"
        },
        "outputId": "7547276f-e193-4775-b731-1559353b8f49"
      },
      "execution_count": null,
      "outputs": [
        {
          "output_type": "stream",
          "name": "stdout",
          "text": [
            "[[  50.32284179]\n",
            " [  54.32268894]\n",
            " [  54.86937651]\n",
            " ...\n",
            " [1005.6       ]\n",
            " [1043.43      ]\n",
            " [1054.56      ]]\n"
          ]
        },
        {
          "output_type": "stream",
          "name": "stderr",
          "text": [
            "/usr/local/lib/python3.7/dist-packages/ipykernel_launcher.py:3: FutureWarning: In a future version of pandas all arguments of DataFrame.drop except for the argument 'labels' will be keyword-only\n",
            "  This is separate from the ipykernel package so we can avoid doing imports until\n"
          ]
        }
      ]
    },
    {
      "cell_type": "code",
      "source": [
        "### Create the dependent data set (y)  #####\n",
        "# Convert the dataframe to a numpy array \n",
        "y = np.array(df['Prediction'])\n",
        "# Get all of the y values except the last '30' rows\n",
        "y = y[:-forecast_out]\n",
        "print(y)"
      ],
      "metadata": {
        "colab": {
          "base_uri": "https://localhost:8080/"
        },
        "id": "_MufJOLRr3CY",
        "outputId": "1bf401f3-d746-4e17-8a59-898047e2250f"
      },
      "execution_count": null,
      "outputs": [
        {
          "output_type": "stream",
          "name": "stdout",
          "text": [
            "[  66.49526451   67.73910413   69.39922877 ... 1026.55       1054.09\n",
            " 1006.94      ]\n"
          ]
        }
      ]
    },
    {
      "cell_type": "code",
      "source": [
        "# Split the data into 80% training and 20% testing\n",
        "x_train, x_test, y_train, y_test = train_test_split(X, y, test_size=0.2)"
      ],
      "metadata": {
        "id": "YUxsb-tTr_bF"
      },
      "execution_count": null,
      "outputs": []
    },
    {
      "cell_type": "code",
      "source": [
        "# Create and train the Support Vector Machine (Regressor) \n",
        "svr_rbf = SVR(kernel='rbf', C=1e3, gamma=0.1) \n",
        "svr_rbf.fit(x_train, y_train)"
      ],
      "metadata": {
        "colab": {
          "base_uri": "https://localhost:8080/"
        },
        "id": "NrrkCx8TsKIH",
        "outputId": "28bd3fcb-69a7-44e2-82e4-0400cacd9cc2"
      },
      "execution_count": null,
      "outputs": [
        {
          "output_type": "execute_result",
          "data": {
            "text/plain": [
              "SVR(C=1000.0, gamma=0.1)"
            ]
          },
          "metadata": {},
          "execution_count": 9
        }
      ]
    },
    {
      "cell_type": "code",
      "source": [
        "#Testing Model: Score returns the coefficient of determination R^2 of the prediction. \n",
        "# The best possible score is 1.0\n",
        "svm_confidence = svr_rbf.score(x_test, y_test)\n",
        "print(\"svm confidence: \", svm_confidence)"
      ],
      "metadata": {
        "colab": {
          "base_uri": "https://localhost:8080/"
        },
        "id": "_wxZ3j_jtKuB",
        "outputId": "811bb0c0-3107-4877-ac87-697fc3162f66"
      },
      "execution_count": null,
      "outputs": [
        {
          "output_type": "stream",
          "name": "stdout",
          "text": [
            "svm confidence:  0.9690485328355797\n"
          ]
        }
      ]
    },
    {
      "cell_type": "code",
      "source": [
        "# Create and train the Linear Regression Model\n",
        "lr = LinearRegression()\n",
        "# Train the model\n",
        "lr.fit(x_train, y_train)"
      ],
      "metadata": {
        "colab": {
          "base_uri": "https://localhost:8080/"
        },
        "id": "C0WzvUI9tfHN",
        "outputId": "5b7ca304-67ec-41e5-fd9c-fc19b1f24916"
      },
      "execution_count": null,
      "outputs": [
        {
          "output_type": "execute_result",
          "data": {
            "text/plain": [
              "LinearRegression()"
            ]
          },
          "metadata": {},
          "execution_count": 11
        }
      ]
    },
    {
      "cell_type": "code",
      "source": [
        "# Testing Model: Score returns the coefficient of determination R^2 of the prediction. \n",
        "# The best possible score is 1.0\n",
        "lr_confidence = lr.score(x_test, y_test)\n",
        "print(\"lr confidence: \", lr_confidence)"
      ],
      "metadata": {
        "colab": {
          "base_uri": "https://localhost:8080/"
        },
        "id": "bIKOWVWStNdT",
        "outputId": "31e99de4-d2a1-4105-a64d-a053634e12cf"
      },
      "execution_count": null,
      "outputs": [
        {
          "output_type": "stream",
          "name": "stdout",
          "text": [
            "lr confidence:  0.9811224781763931\n"
          ]
        }
      ]
    },
    {
      "cell_type": "code",
      "source": [
        "# Set x_forecast equal to the last 30 rows of the original data set from Adj. Close column\n",
        "x_forecast = np.array(df.drop(['Prediction'],1))[-forecast_out:]\n",
        "print(x_forecast)"
      ],
      "metadata": {
        "colab": {
          "base_uri": "https://localhost:8080/"
        },
        "id": "5KgckzAytl8j",
        "outputId": "c2db718a-2722-4bfc-9feb-33d8e6ddefd3"
      },
      "execution_count": null,
      "outputs": [
        {
          "output_type": "stream",
          "name": "stdout",
          "text": [
            "[[1054.14]\n",
            " [1072.7 ]\n",
            " [1091.36]\n",
            " [1095.5 ]\n",
            " [1103.59]\n",
            " [1113.75]\n",
            " [1109.9 ]\n",
            " [1128.09]\n",
            " [1143.7 ]\n",
            " [1117.51]\n",
            " [1103.92]\n",
            " [1071.41]\n",
            " [1084.14]\n",
            " [1094.76]\n",
            " [1100.9 ]\n",
            " [1115.04]\n",
            " [1129.38]\n",
            " [1160.84]\n",
            " [1165.93]\n",
            " [1139.91]\n",
            " [1148.89]\n",
            " [1150.61]\n",
            " [1134.42]\n",
            " [1100.07]\n",
            " [1095.8 ]\n",
            " [1094.  ]\n",
            " [1053.15]\n",
            " [1026.55]\n",
            " [1054.09]\n",
            " [1006.94]]\n"
          ]
        },
        {
          "output_type": "stream",
          "name": "stderr",
          "text": [
            "/usr/local/lib/python3.7/dist-packages/ipykernel_launcher.py:2: FutureWarning: In a future version of pandas all arguments of DataFrame.drop except for the argument 'labels' will be keyword-only\n",
            "  \n"
          ]
        }
      ]
    },
    {
      "cell_type": "code",
      "source": [
        "# Print linear regression model predictions for the next '30' days\n",
        "lr_prediction = lr.predict(x_forecast)\n",
        "print(lr_prediction)\n",
        "# Print support vector regressor model predictions for the next '30' days\n",
        "svm_prediction = svr_rbf.predict(x_forecast)\n",
        "print(svm_prediction)"
      ],
      "metadata": {
        "colab": {
          "base_uri": "https://localhost:8080/"
        },
        "id": "CqUJknoBtssk",
        "outputId": "ad636f41-310b-4809-b48e-8c895da24327"
      },
      "execution_count": null,
      "outputs": [
        {
          "output_type": "stream",
          "name": "stdout",
          "text": [
            "[1072.44748887 1091.26544838 1110.18479776 1114.3823383  1122.58477862\n",
            " 1132.88598922 1128.9824793  1147.4252963  1163.2522547  1136.69824826\n",
            " 1122.91936519 1089.95751908 1102.86444929 1113.63205328 1119.85739117\n",
            " 1134.19391852 1148.7332256  1180.63047809 1185.79122237 1159.4095787\n",
            " 1168.51438886 1170.25829459 1153.84327495 1119.01585527 1114.6865079\n",
            " 1112.86149028 1071.44372917 1044.47402427 1072.39679393 1024.59147114]\n",
            "[1014.91533798 1104.44613005 1083.17468288 1108.56704879  613.15144057\n",
            " 1117.02843917 1072.41049995  862.58231099 1086.16442945 1114.19346372\n",
            "  615.1058121  1097.40300529 1172.61608579 1130.12485073  637.83723936\n",
            " 1109.18452801 1028.51728417  770.48902388  994.23217011 1056.16138865\n",
            "  632.2374896   610.60839288 1027.23503361  673.6615888  1093.08309441\n",
            " 1135.50473964 1072.01367466 1047.74796798 1016.64157712 1070.26826621]\n"
          ]
        }
      ]
    },
    {
      "cell_type": "code",
      "source": [
        "# ABAIXO, SEGUE UM ENXERTO MEU, MOSTRANDO EM GRÁFICO OS ÚLTIMOS 100 PREGÕES DO ATIVO, E \n",
        "# DEPOIS O GRÉFICO COM AS PREVISÕES FEITAS PELO MODELO DE REGRESSÃO LINEAR, QUE EM GERAL \n",
        "# SEMPRE SE SAI MELHOR."
      ],
      "metadata": {
        "id": "NV__Jz8OvvNu"
      },
      "execution_count": null,
      "outputs": []
    },
    {
      "cell_type": "code",
      "source": [
        "# EU RETIREI MOMENTANEAMENTE ESTA PARTE DO CÓDIGO, POIS ELA NÃO ESTÁ RODANDO DO JEITO\n",
        "# QUE EU QUERO.  \n",
        "\n",
        "'''\n",
        "\n",
        "import matplotlib.pyplot as plt\n",
        "\n",
        "ta = df.tail(100)\n",
        "\n",
        "plt.plot(ta, color=\"black\", label=f\"precos reais\")\n",
        "plt.title(f\" Share Price\")\n",
        "plt.xlabel(\"Time\")\n",
        "plt.ylabel(f\" Share Price\")\n",
        "plt.legend()\n",
        "plt.show()\n",
        "\n",
        "'''"
      ],
      "metadata": {
        "colab": {
          "base_uri": "https://localhost:8080/",
          "height": 35
        },
        "id": "Yx9eyV_QN2tf",
        "outputId": "41464748-70f2-47ce-ae93-2ab0b9431412"
      },
      "execution_count": null,
      "outputs": [
        {
          "output_type": "execute_result",
          "data": {
            "text/plain": [
              "'\\n\\nimport matplotlib.pyplot as plt\\n\\nta = df.tail(100)\\n\\nplt.plot(ta, color=\"black\", label=f\"precos reais\")\\nplt.title(f\" Share Price\")\\nplt.xlabel(\"Time\")\\nplt.ylabel(f\" Share Price\")\\nplt.legend()\\nplt.show()\\n\\n'"
            ],
            "application/vnd.google.colaboratory.intrinsic+json": {
              "type": "string"
            }
          },
          "metadata": {},
          "execution_count": 16
        }
      ]
    },
    {
      "cell_type": "code",
      "source": [
        "\n",
        "import matplotlib.pyplot as plt\n",
        "\n",
        "'''plt.plot(df, color=\"black\", label=f\"precos reais\")''' # DEPOIS PRETENDO DAR \n",
        "# UM JEITO DE JUNTAR TODOS OS GRÁFICOS NUM SÓ PARA VER COMO A PREVISÃO DÁ \n",
        "# CONTINUIDADE AO PREÇO REAL DO ATIVO.\n",
        "\n",
        "plt.plot(lr_prediction, color = \"black\", label=f\"Prediction\")\n",
        "plt.title(f\" Share Price\")\n",
        "plt.xlabel(\"Time\")\n",
        "plt.ylabel(f\" Share Price\")\n",
        "plt.legend()\n",
        "plt.show()\n",
        "\n"
      ],
      "metadata": {
        "id": "R8ZbpNbdvF4d",
        "colab": {
          "base_uri": "https://localhost:8080/",
          "height": 295
        },
        "outputId": "ae908af9-905b-42b1-e19d-0ccb1fdd97e2"
      },
      "execution_count": null,
      "outputs": [
        {
          "output_type": "display_data",
          "data": {
            "text/plain": [
              "<Figure size 432x288 with 1 Axes>"
            ],
            "image/png": "[encoded data removed]"
          },
          "metadata": {
            "needs_background": "light"
          }
        }
      ]
    }
  ]
}